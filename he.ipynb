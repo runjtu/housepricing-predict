{
 "cells": [
  {
   "cell_type": "code",
   "execution_count": 1,
   "metadata": {},
   "outputs": [
    {
     "name": "stdout",
     "output_type": "stream",
     "text": [
      "共发现3个CSV文件\n",
      "正在处理............\n",
      "合并完毕！\n"
     ]
    }
   ],
   "source": [
    "import os\n",
    "import pandas as pd\n",
    "import glob\n",
    "\n",
    "csv_list = glob.glob('*.csv') #查看同文件夹下的csv文件数\n",
    "print(u'共发现%s个CSV文件'% len(csv_list))\n",
    "print(u'正在处理............')\n",
    "for i in csv_list: #循环读取同文件夹下的csv文件\n",
    "    fr = open(i,'rb').read()\n",
    "    with open('result.csv','ab') as f: #将结果保存为result.csv\n",
    "        f.write(fr)\n",
    "print(u'合并完毕！')\n"
   ]
  }
 ],
 "metadata": {
  "interpreter": {
   "hash": "57baa5815c940fdaff4d14510622de9616cae602444507ba5d0b6727c008cbd6"
  },
  "kernelspec": {
   "display_name": "Python 3.7.5 64-bit",
   "language": "python",
   "name": "python3"
  },
  "language_info": {
   "codemirror_mode": {
    "name": "ipython",
    "version": 3
   },
   "file_extension": ".py",
   "mimetype": "text/x-python",
   "name": "python",
   "nbconvert_exporter": "python",
   "pygments_lexer": "ipython3",
   "version": "3.7.5"
  },
  "orig_nbformat": 4
 },
 "nbformat": 4,
 "nbformat_minor": 2
}
